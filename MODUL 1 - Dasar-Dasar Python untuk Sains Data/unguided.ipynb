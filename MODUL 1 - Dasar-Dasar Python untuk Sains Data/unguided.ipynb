{
 "cells": [
  {
   "cell_type": "markdown",
   "metadata": {},
   "source": [
    "### Soal 1: Memecahkan Masalah Unik dengan Loop dan If-Else\n",
    "**Soal**: Buatlah program yang dapat menghasilkan pola berbentuk angka seperti di bawah ini, dengan syarat angka yang ditampilkan adalah hasil dari penjumlahan bilangan prima sebelumnya:\n",
    "```\n",
    "1\n",
    "2 3\n",
    "5 7 11\n",
    "13 17 19 23\n",
    "...\n",
    "```\n",
    "Jumlah angka pada setiap baris bertambah 1, dan bilangan yang ditampilkan adalah bilangan prima."
   ]
  },
  {
   "cell_type": "code",
   "execution_count": 10,
   "metadata": {},
   "outputs": [
    {
     "name": "stdout",
     "output_type": "stream",
     "text": [
      "1 \n",
      "2 3 \n",
      "5 7 11 \n",
      "13 17 19 23 \n"
     ]
    }
   ],
   "source": [
    "# Fungsi untuk mengecek apakah sebuah angka adalah bilangan prima\n",
    "def bil_prima(angka):\n",
    "    if angka < 1:\n",
    "        return False\n",
    "    for i in range(2, angka):\n",
    "        if angka % i == 0:\n",
    "            return False\n",
    "    return True\n",
    "\n",
    "# Fungsi untuk menghasilkan pola bilangan prima\n",
    "def pola_bil_prima(jumlah_baris):\n",
    "    angka = 1 \n",
    "    for baris in range(1, jumlah_baris + 1):\n",
    "        hitung = 0  # Menghitung berapa bilangan prima di setiap baris\n",
    "        while hitung < baris:\n",
    "            if bil_prima(angka):\n",
    "                print(angka, end=\" \")  # Cetak bilangan prima di baris yang sama\n",
    "                hitung += 1  # Tambah hitungan bilangan prima di baris ini\n",
    "            angka += 1  # Cek angka berikutnya\n",
    "        print()  # Pindah ke baris baru setelah selesai mencetak baris saat ini\n",
    "\n",
    "# Memanggil fungsi untuk mencetak pola bilangan prima dengan 4 baris\n",
    "pola_bil_prima(4)\n"
   ]
  },
  {
   "cell_type": "markdown",
   "metadata": {},
   "source": [
    "**Interpretasi**: Program tersebut adalah sebuah program yang digunakan untuk menghasilkan pola bilangan prima. Bilangan prima adalah bilangan yang hanya dapat dibagi oleh 1 dan dirinya sendiri. Program ini menggunakan dua fungsi, yaitu `bil_prima` untuk mengecek apakah sebuah angka adalah bilangan prima, dan `pola_bil_prima` untuk menghasilkan pola bilangan prima dengan jumlah baris yang dapat diatur."
   ]
  },
  {
   "cell_type": "markdown",
   "metadata": {},
   "source": [
    "### Soal 2: Membuat Fungsi dengan Syarat Spesifik\n",
    "**Soal**: Buatlah sebuah fungsi yang menerima dua input berupa list angka. Fungsi ini harus mengembalikan sebuah list baru yang berisi elemen dari dua list input yang memiliki indeks ganjil. List baru tersebut juga harus diurutkan secara menurun berdasarkan nilai elemen.\n"
   ]
  },
  {
   "cell_type": "code",
   "execution_count": 17,
   "metadata": {},
   "outputs": [
    {
     "name": "stdout",
     "output_type": "stream",
     "text": [
      "list 1: [5, 2, 8, 1, 4] \n",
      "list 2: [3, 23, 17, 6, 13]\n",
      "gabungan indeks ganjil: [23, 6, 2, 1]\n"
     ]
    }
   ],
   "source": [
    "def gabung_ganjil(list1, list2):\n",
    "    ganjil1 = [list1[i] for i in range(len(list1)) if i % 2 != 0] # Mengambil elemen dari list1 yang memiliki indeks ganjil\n",
    "    ganjil2 = [list2[i] for i in range(len(list2)) if i % 2 != 0] # Mengambil elemen dari list2 yang memiliki indeks ganjil\n",
    "    gabung = ganjil1 + ganjil2 # Menggabungkan kedua list\n",
    "    gabung.sort(reverse=True) # Mengurutkan list secara menurun\n",
    "    return gabung\n",
    "\n",
    "# Contoh penggunaan\n",
    "list1 = [5, 2, 8, 1, 4]\n",
    "list2 = [3, 23, 17, 6, 13]\n",
    "print(f\"list 1: {list1}\",f\"\\nlist 2: {list2}\")\n",
    "print(f\"gabungan indeks ganjil: {gabung_ganjil(list1, list2)}\")"
   ]
  },
  {
   "cell_type": "markdown",
   "metadata": {},
   "source": [
    "**Interpretasi**: Program tersebut adalah program yang digunakan untuk menggabungkan elemen-elemen dari dua list yang memiliki indeks ganjil dan mengurutkannya secara menurun. Program ini menggunakan fungsi `gabung_ganjil` untuk mengambil elemen-elemen dari dua list yang memiliki indeks ganjil menggunakan list comprehension, dan kemudian mengurutkannya secara menurun menggunakan metode `sort` dengan parameter `reverse=True`."
   ]
  },
  {
   "cell_type": "markdown",
   "metadata": {},
   "source": [
    "### Soal 3: Exception Handling dalam Konteks Nyata\n",
    "**Soal**: Buat sebuah program untuk mensimulasikan transaksi ATM. Program harus:\n",
    "1. Meminta pengguna memasukkan PIN (dibatasi 3 kali percobaan).\n",
    "2. Setelah PIN benar, meminta jumlah penarikan.\n",
    "3. Jika saldo kurang dari jumlah yang ditarik, munculkan pesan kesalahan.\n",
    "4. Jika penarikan berhasil, tampilkan saldo akhir.\n"
   ]
  },
  {
   "cell_type": "code",
   "execution_count": 18,
   "metadata": {},
   "outputs": [
    {
     "name": "stdout",
     "output_type": "stream",
     "text": [
      "Masukkan PIN Anda: 1234\n",
      "PIN salah. Anda memiliki 2 kesempatan lagi.\n",
      "Masukkan PIN Anda: 3281\n",
      "PIN benar.\n",
      "Masukkan jumlah penarikan: Rp 52350\n",
      "Penarikan berhasil. Sisa saldo Anda: Rp 447650\n"
     ]
    }
   ],
   "source": [
    "def simulasi_atm():\n",
    "    pin_terdaftar = \"3281\"  # PIN yang benar\n",
    "    saldo = 500000  # Saldo awal\n",
    "    kesempatan = 3  # Batas percobaan PIN\n",
    "\n",
    "    while kesempatan > 0: # Loop untuk mencoba memasukkan PIN (maksimal 3 kali)\n",
    "        pin_input = input(\"Masukkan PIN Anda: \")\n",
    "        print(f\"Masukkan PIN Anda: {pin_input}\")\n",
    "        if pin_input == pin_terdaftar:\n",
    "            print(\"PIN benar.\")\n",
    "            try:\n",
    "                jumlah_penarikan = int(input(\"Masukkan jumlah penarikan: Rp \")) # Meminta jumlah penarikan\n",
    "                print(f\"Masukkan jumlah penarikan: Rp {jumlah_penarikan}\")\n",
    "                if jumlah_penarikan > saldo:# Cek apakah saldo cukup\n",
    "                    raise ValueError(\"Saldo tidak cukup untuk penarikan.\")\n",
    "                saldo -= jumlah_penarikan # Jika saldo cukup, lakukan penarikan\n",
    "                print(f\"Penarikan berhasil. Sisa saldo Anda: Rp {saldo}\")\n",
    "                break\n",
    "            except ValueError as e:\n",
    "                print(f\"Kesalahan: {e}\") # Menangkap kesalahan jika saldo tidak cukup atau input salah\n",
    "        else:\n",
    "            kesempatan -= 1\n",
    "            if kesempatan > 0:\n",
    "                print(f\"PIN salah. Anda memiliki {kesempatan} kesempatan lagi.\")\n",
    "            else:\n",
    "                print(\"Anda telah mencoba 3 kali. Akun diblokir.\")\n",
    "\n",
    "# Memanggil fungsi simulasi ATM\n",
    "simulasi_atm()\n"
   ]
  },
  {
   "cell_type": "markdown",
   "metadata": {},
   "source": [
    "**Interpretasi**: Program tersebut adalah simulasi mesin ATM yang memungkinkan pengguna untuk memasukkan PIN, melakukan penarikan, dan mengecek saldo. Program ini memiliki PIN yang terdaftar dan saldo awal, serta membatasi jumlah percobaan PIN menjadi 3 kali. Fungsi `simulasi_atm()` digunakan untuk menjalankan simulasi ATM, yang kemudian meminta pengguna untuk memasukkan PIN, melakukan penarikan, dan mengecek saldo. Jika pengguna memasukkan PIN yang benar, mereka dapat melakukan penarikan dan saldo akan berkurang sesuai dengan jumlah penarikan. Jika saldo tidak cukup, program akan menampilkan kesalahan. Jika pengguna memasukkan PIN yang salah, mereka akan diberikan kesempatan lagi hingga 3 kali, dan jika kesempatan habis, akun akan diblokir."
   ]
  },
  {
   "cell_type": "markdown",
   "metadata": {},
   "source": [
    "### Soal 4: Studi Kasus Pengelolaan Data\n",
    "**Soal**: Anda diberikan file CSV berisi data nilai ujian mahasiswa. Tugas Anda adalah menulis sebuah program yang:\n",
    "1. Membaca file CSV dan menyimpan datanya ke dalam dictionary.\n",
    "2. Menghitung rata-rata nilai tiap mahasiswa.\n",
    "3. Menampilkan mahasiswa dengan nilai tertinggi dan terendah.\n",
    "\n"
   ]
  },
  {
   "cell_type": "code",
   "execution_count": 62,
   "metadata": {},
   "outputs": [
    {
     "name": "stdout",
     "output_type": "stream",
     "text": [
      "Rata-rata nilai: 72.0\n",
      "Mahasiswa dengan nilai tertinggi: [('Siswa_7', 100.0), ('Siswa_28', 100.0)]\n",
      "Mahasiswa dengan nilai terendah: [('Siswa_5', 50.0), ('Siswa_66', 50.0), ('Siswa_93', 50.0)]\n"
     ]
    }
   ],
   "source": [
    "import csv\n",
    "\n",
    "# Membaca file CSV dan menyimpan datanya ke dalam dictionary\n",
    "def baca_file_csv(nama_file):\n",
    "    data = {}\n",
    "    with open(nama_file, 'r') as file:\n",
    "        reader = csv.DictReader(file)\n",
    "        for row in reader:\n",
    "            nama_mahasiswa = row['Nama Siswa']\n",
    "            nilai = float(row['Nilai'])\n",
    "            data[nama_mahasiswa] = nilai\n",
    "    return data\n",
    "\n",
    "# Menghitung rata-rata nilai tiap mahasiswa\n",
    "def hitung_rata_rata_nilai(data):\n",
    "    rata_rata_nilai = sum(data.values()) / len(data)\n",
    "    return rata_rata_nilai\n",
    "\n",
    "# Menampilkan mahasiswa dengan nilai tertinggi dan terendah\n",
    "def tampilkan_mahasiswa_terbaik_dan_terburuk(data):\n",
    "    nilai_tertinggi = max(data.values())\n",
    "    nilai_terendah = min(data.values())\n",
    "    mahasiswa_terbaik = [(nama_mahasiswa, nilai) for nama_mahasiswa, nilai in data.items() if nilai == nilai_tertinggi]\n",
    "    mahasiswa_terburuk = [(nama_mahasiswa, nilai) for nama_mahasiswa, nilai in data.items() if nilai == nilai_terendah]\n",
    "    return mahasiswa_terbaik, mahasiswa_terburuk\n",
    "\n",
    "# Contoh penggunaan\n",
    "nama_file = 'siswa_nilai (1).csv'\n",
    "data = baca_file_csv(nama_file)\n",
    "rata_rata_nilai = hitung_rata_rata_nilai(data)\n",
    "mahasiswa_terbaik, mahasiswa_terburuk = tampilkan_mahasiswa_terbaik_dan_terburuk(data)\n",
    "\n",
    "print(\"Rata-rata nilai:\", rata_rata_nilai)\n",
    "print(\"Mahasiswa dengan nilai tertinggi:\", mahasiswa_terbaik)\n",
    "print(\"Mahasiswa dengan nilai terendah:\", mahasiswa_terburuk)"
   ]
  },
  {
   "cell_type": "markdown",
   "metadata": {},
   "source": [
    "**Interpretasi**: Program tersebut adalah program yang membaca data dari file CSV, menghitung rata-rata nilai, serta menampilkan mahasiswa dengan nilai tertinggi dan terendah. Terdapat 3 fungsi utama yaitu, `baca_file_csv()` yang digunakan untuk membaca data CSV, `hitung_rata_rata_nilai()` yang digunakan untuk menghitung rata-rata nilai, serta `tampilkan_mahasiswa_terbaik_dan_terburuk()` yang digunakan untuk menampilkan mahasiswa dengan nilai tertinggi dan terendah."
   ]
  },
  {
   "cell_type": "markdown",
   "metadata": {},
   "source": [
    "### Soal 5: Kombinasi Logika dan Kreativitas\n",
    "**Soal**: Buatlah permainan sederhana menggunakan Python, di mana komputer akan memilih sebuah angka secara acak antara 1 hingga 100, dan pengguna harus menebak angka tersebut. Setiap tebakan yang salah akan memberikan petunjuk apakah angka yang ditebak lebih besar atau lebih kecil dari angka sebenarnya. Batasi jumlah percobaan menjadi 5 kali. Setelah permainan selesai, tampilkan apakah pemain menang atau kalah.\n"
   ]
  },
  {
   "cell_type": "code",
   "execution_count": 21,
   "metadata": {},
   "outputs": [
    {
     "name": "stdout",
     "output_type": "stream",
     "text": [
      "Selamat datang di permainan tebak angka!\n",
      "Sistem telah memilih sebuah angka acak antara 1 sampai dengan 100.\n",
      "Silakan tebak angka tersebut. Kamu mempunyai 5 percobaan.\n",
      "Good luck!\n",
      "Masukkan tebakan kamu: 50\n",
      "Angka yang kamu tebak terlalu kecil. Coba lagi!\n",
      "Masukkan tebakan kamu: 75\n",
      "Angka yang kamu tebak terlalu besar. Coba lagi!\n",
      "Masukkan tebakan kamu: 55\n",
      "Angka yang kamu tebak terlalu kecil. Coba lagi!\n",
      "Masukkan tebakan kamu: 65\n",
      "Angka yang kamu tebak terlalu besar. Coba lagi!\n",
      "Masukkan tebakan kamu: 60\n",
      "Angka yang kamu tebak terlalu besar. Coba lagi!\n",
      "Sayang sekali. Kamu telah kehabisan percobaan.\n",
      "Angka yang benar adalah 58.\n"
     ]
    }
   ],
   "source": [
    "import random\n",
    "\n",
    "def main():\n",
    "    angka_rahasia = random.randint(1, 100)\n",
    "    percobaan = 0\n",
    "\n",
    "    print(\"Selamat datang di permainan tebak angka!\")\n",
    "    print(\"Sistem telah memilih sebuah angka acak antara 1 sampai dengan 100.\")\n",
    "    print(\"Silakan tebak angka tersebut. Kamu mempunyai 5 percobaan.\")\n",
    "    print(\"Good luck!\")\n",
    "\n",
    "    while percobaan < 5:\n",
    "        tebakan = int(input(\"Masukkan tebakan kamu: \"))\n",
    "        print(f\"Masukkan tebakan kamu: {tebakan}\")\n",
    "\n",
    "        if tebakan < angka_rahasia:\n",
    "            print(\"Angka yang kamu tebak terlalu kecil. Coba lagi!\")\n",
    "        elif tebakan > angka_rahasia:\n",
    "            print(\"Angka yang kamu tebak terlalu besar. Coba lagi!\")\n",
    "        else:\n",
    "            print(\"Selamat! Kamu telah menebak angka yang benar.\")\n",
    "            return\n",
    "\n",
    "        percobaan += 1\n",
    "\n",
    "    print(\"Sayang sekali. Kamu telah kehabisan percobaan.\")\n",
    "    print(f\"Angka yang benar adalah {angka_rahasia}.\")\n",
    "\n",
    "if __name__ == \"__main__\":\n",
    "    main()"
   ]
  },
  {
   "cell_type": "markdown",
   "metadata": {},
   "source": [
    "**Interpretasi**: Program tersebut adalah permainan tebak angka yang memungkinkan pengguna untuk menebak angka acak antara 1 sampai dengan 100. Fungsi `main()` digunakan untuk menjalankan permainan, yang memilih angka acak menggunakan `random.randint()` dan memberikan pengguna 5 percobaan untuk menebak angka tersebut. Program ini menggunakan perulangan untuk memproses tebakan pengguna dan memberikan feedback berupa petunjuk apakah angka yang ditebak terlalu kecil atau terlalu besar. Jika pengguna berhasil menebak angka yang benar, program akan menampilkan pesan selamat dan mengakhiri permainan. Jika pengguna kehabisan percobaan, program akan menampilkan angka yang benar."
   ]
  },
  {
   "cell_type": "markdown",
   "metadata": {},
   "source": [
    "### Soal 6: Rekursi yang Tidak Biasa\n",
    "**Soal**: Buat fungsi rekursif yang menerima input bilangan bulat `n` dan menghasilkan urutan bilangan seperti berikut ini:\n",
    "```\n",
    "Input: n = 4\n",
    "Output: 1, 1, 2, 6, 24\n",
    "```\n",
    "Fungsi ini harus menggunakan konsep rekursi untuk menghitung faktorial setiap angka hingga `n`.\n",
    "\n"
   ]
  },
  {
   "cell_type": "code",
   "execution_count": 49,
   "metadata": {},
   "outputs": [
    {
     "name": "stdout",
     "output_type": "stream",
     "text": [
      "Input: n =  4\n",
      "Output: 1, 2, 6, 24\n"
     ]
    }
   ],
   "source": [
    "def faktorial(n):  # Fungsi untuk menghitung faktorial secara rekursif\n",
    "    if n == 1:  # Base case\n",
    "        return 1\n",
    "    else:\n",
    "        return n * faktorial(n - 1)  # Rekursi\n",
    "\n",
    "def urutan_faktorial(n):  # Fungsi untuk menghasilkan urutan faktorial\n",
    "    if n == 1:\n",
    "        return [1]  # Base case\n",
    "    else:\n",
    "        return urutan_faktorial(n - 1) + [faktorial(n)]  # Rekursi untuk menghasilkan urutan hingga n\n",
    "\n",
    "# Memanggil fungsi dan menampilkan output\n",
    "n = int(input(\"Input: n = \"))  # Contoh input\n",
    "print(\"Input: n = \",n)\n",
    "hasil = urutan_faktorial(n)\n",
    "print(\"Output:\", ', '.join(map(str, hasil)))"
   ]
  },
  {
   "cell_type": "markdown",
   "metadata": {},
   "source": [
    "**Interpretasi**: Program tersebut adalah program yang menghitung dan menampilkan urutan faktorial dari sebuah bilangan n. Fungsi `faktorial()` digunakan untuk menghitung faktorial secara rekursif, sedangkan fungsi `urutan_faktorial()` digunakan untuk menghasilkan urutan faktorial hingga n. Program ini meminta input dari pengguna untuk nilai n, kemudian menghitung dan menampilkan urutan faktorial dari 1 hingga n. Hasilnya akan ditampilkan dalam bentuk urutan bilangan yang dipisahkan oleh koma."
   ]
  },
  {
   "cell_type": "markdown",
   "metadata": {},
   "source": [
    "### Soal 7: Pemrograman dengan Algoritma Greedy\n",
    "**Soal**: Buatlah program untuk memecahkan masalah \"minimum coin change\". Diberikan jumlah uang dan daftar nilai koin yang tersedia (misalnya, 1, 5, 10, 25), tentukan kombinasi minimum koin yang diperlukan untuk mencapai jumlah uang tersebut. Namun, program Anda harus bisa menangani koin-koin yang nilai dan jumlahnya ditentukan pengguna.\n"
   ]
  },
  {
   "cell_type": "code",
   "execution_count": 47,
   "metadata": {},
   "outputs": [
    {
     "name": "stdout",
     "output_type": "stream",
     "text": [
      "Masukkan jumlah uang: 876\n",
      "Masukkan nilai koin yang tersedia: [70, 90, 85, 16, 25]\n",
      "Kombinasi minimum koin: [90, 90, 90, 90, 90, 90, 90, 90, 90, 25, 25, 16]\n"
     ]
    }
   ],
   "source": [
    "def minimum_coin_change(jumlah_uang, koin):\n",
    "    koin.sort(reverse=True)  # Mengurutkan koin dari nilai terbesar ke terkecil\n",
    "    hasil = []  # List untuk menyimpan kombinasi koin\n",
    "    for k in koin:\n",
    "        while jumlah_uang >= k:\n",
    "            hasil.append(k)\n",
    "            jumlah_uang -= k\n",
    "    return hasil\n",
    "\n",
    "# Contoh penggunaan\n",
    "jumlah_uang = int(input(\"Masukkan jumlah uang: \"))\n",
    "print(f\"Masukkan jumlah uang: {jumlah_uang}\")\n",
    "koin = list(map(int, input(\"Masukkan nilai koin yang tersedia (pisahkan dengan spasi): \").split()))\n",
    "print(f\"Masukkan nilai koin yang tersedia: {koin}\")\n",
    "hasil = minimum_coin_change(jumlah_uang, koin)\n",
    "print(\"Kombinasi minimum koin:\", hasil)"
   ]
  },
  {
   "cell_type": "markdown",
   "metadata": {},
   "source": [
    "**Interpretasi**: Program tersebut adalah program yang menghitung kombinasi minimum koin yang diperlukan untuk mencapai jumlah uang tertentu. Fungsi `minimum_coin_change()` digunakan untuk menghitung kombinasi koin berdasarkan input jumlah uang dan nilai koin yang tersedia. Program ini akan mengurutkan koin dari nilai terbesar ke terkecil, kemudian menggunakan perulangan untuk menambahkan koin ke dalam kombinasi hingga jumlah uang yang tersisa mencapai 0. Hasilnya adalah kombinasi minimum koin yang diperlukan untuk mencapai jumlah uang yang diinginkan."
   ]
  },
  {
   "cell_type": "markdown",
   "metadata": {},
   "source": [
    "### Soal 8: Kombinasi String dan Manipulasi List\n",
    "**Soal**: Buat sebuah program yang menerima string dari pengguna dan mengonversi string tersebut menjadi sebuah list berisi kata-kata terbalik. Misalnya:\n",
    "```\n",
    "Input: \"Saya suka Python\"\n",
    "Output: [\"ayaS\", \"akus\", \"nohtyP\"]\n",
    "```\n"
   ]
  },
  {
   "cell_type": "code",
   "execution_count": 6,
   "metadata": {},
   "outputs": [
    {
     "name": "stdout",
     "output_type": "stream",
     "text": [
      "Input: Sayang Joshua\n",
      "Output: ['gnayaS', 'auhsoJ']\n"
     ]
    }
   ],
   "source": [
    "def balik_kata(input_string):\n",
    "    kata_list = input_string.split() # Pisahkan string menjadi list kata-kata\n",
    "    kata_terbalik = [kata[::-1] for kata in kata_list] # Balikkan setiap kata dalam list\n",
    "    return kata_terbalik\n",
    "\n",
    "# Meminta input dari pengguna\n",
    "input_string = input(\"Masukkan sebuah kalimat: \")\n",
    "print(f\"Input: {input_string}\")\n",
    "\n",
    "# Memanggil fungsi dan menampilkan hasil\n",
    "hasil = balik_kata(input_string)\n",
    "print(f\"Output: {hasil}\")"
   ]
  },
  {
   "cell_type": "markdown",
   "metadata": {},
   "source": [
    "**Interpretasi**: Program tersebut adalah program yang membalikkan setiap kata dalam sebuah kalimat. Fungsi `balik_kata()` digunakan untuk membalikkan kata-kata, yang menerima input kalimat dari pengguna. Program ini memisahkan kalimat menjadi list kata-kata menggunakan metode `split()`, kemudian menggunakan list comprehension untuk membalikkan setiap kata dalam list menggunakan sintaks `[::-1]`. Hasilnya adalah list kata-kata yang telah dibalikkan yang ditampilkan sebagai output."
   ]
  },
  {
   "cell_type": "markdown",
   "metadata": {},
   "source": [
    "### Soal 9: Konsep Class dan Object-Oriented Programming\n",
    "**Soal**: Buat class bernama `Buku` yang memiliki atribut `judul`, `penulis`, dan `tahun_terbit`. Buat method dalam class untuk menampilkan informasi buku, serta method untuk menghitung usia buku berdasarkan tahun saat ini. Buatlah 3 objek dari class `Buku` dan tampilkan informasi serta usia masing-masing buku.\n"
   ]
  },
  {
   "cell_type": "code",
   "execution_count": 25,
   "metadata": {},
   "outputs": [
    {
     "name": "stdout",
     "output_type": "stream",
     "text": [
      "Judul: If Only\n",
      "Penulis: Innayah Putri\n",
      "Tahun Terbit: 2018\n",
      "Usia Buku: 6 tahun\n",
      "------------------------------\n",
      "Judul: Dilan: Dia adalah Dilanku Tahun 1990\n",
      "Penulis: Pidi Baiq\n",
      "Tahun Terbit: 2014\n",
      "Usia Buku: 10 tahun\n",
      "------------------------------\n",
      "Judul: Heart\n",
      "Penulis: Ninit Yunita\n",
      "Tahun Terbit: 2006\n",
      "Usia Buku: 18 tahun\n",
      "------------------------------\n"
     ]
    }
   ],
   "source": [
    "from datetime import datetime # Import modul datetime untuk mendapatkan tanggal dan waktu saat ini\n",
    "\n",
    "class Buku: # Mendefinisikan class Buku\n",
    "    def __init__(self, judul, penulis, tahun_terbit): # Menginisialisasi atribut class Buku: self, judul, penulis, dan tahun_terbit\n",
    "        self.judul = judul\n",
    "        self.penulis = penulis\n",
    "        self.tahun_terbit = tahun_terbit\n",
    "\n",
    "    def tampilkan_informasi(self): # Fungsi untuk menampilkan informasi buku\n",
    "        print(f\"Judul: {self.judul}\")\n",
    "        print(f\"Penulis: {self.penulis}\")\n",
    "        print(f\"Tahun Terbit: {self.tahun_terbit}\")\n",
    "\n",
    "    def hitung_usia(self): # Fungsi untuk menghitung usia buku berdasarkan tahun saat ini\n",
    "        tahun_saat_ini = datetime.now().year # Mendapatkan tahun saat ini\n",
    "        usia = tahun_saat_ini - self.tahun_terbit # Menghitung usia buku\n",
    "        return usia\n",
    "\n",
    "# Membuat 3 objek dari class Buku\n",
    "buku1 = Buku(\"If Only\", \"Innayah Putri\", 2018)\n",
    "buku2 = Buku(\"Dilan: Dia adalah Dilanku Tahun 1990\", \"Pidi Baiq\", 2014)\n",
    "buku3 = Buku(\"Heart\", \"Ninit Yunita\", 2006)\n",
    "\n",
    "# Menampilkan informasi dan usia masing-masing buku\n",
    "for buku in [buku1, buku2, buku3]: \n",
    "    buku.tampilkan_informasi()\n",
    "    print(f\"Usia Buku: {buku.hitung_usia()} tahun\")\n",
    "    print(\"-\" * 30)"
   ]
  },
  {
   "cell_type": "markdown",
   "metadata": {},
   "source": [
    "**Interpretasi**: Program tersebut adalah program yang mendefinisikan class Buku untuk menyimpan informasi tentang buku, termasuk judul, penulis, dan tahun terbit. Fungsi `tampilkan_informasi()` digunakan untuk menampilkan informasi buku, sedangkan fungsi `hitung_usia()` digunakan untuk menghitung usia buku berdasarkan tahun saat ini. Program ini menggunakan modul datetime untuk mendapatkan tahun saat ini dan membuat 3 objek dari class Buku untuk menampilkan informasi dan usia masing-masing buku. Hasil output-nya adalah informasi tentang buku dan usia buku yang dihitung secara otomatis."
   ]
  },
  {
   "cell_type": "markdown",
   "metadata": {},
   "source": [
    "### Soal 10: Algoritma dengan Persyaratan Logika Khusus\n",
    "**Soal**: Buatlah program yang mengimplementasikan algoritma pencarian biner, namun dengan modifikasi: algoritma harus bisa mencari nilai di list yang hanya berisi angka genap, dan jika nilai yang dicari adalah angka ganjil, program harus menampilkan pesan bahwa nilai tersebut tidak bisa ditemukan.\n"
   ]
  },
  {
   "cell_type": "code",
   "execution_count": 31,
   "metadata": {},
   "outputs": [
    {
     "name": "stdout",
     "output_type": "stream",
     "text": [
      "List angka: [2, 4, 6, 8, 10, 12, 14, 16, 18, 20, 22, 24, 26, 28, 30, 32, 34, 36, 38, 40, 42, 44, 46, 48, 50]\n",
      "Masukkan nilai target: 9\n",
      "Nilai tidak bisa ditemukan karena target adalah angka ganjil\n"
     ]
    }
   ],
   "source": [
    "def pencarian_biner(list_angka, target):\n",
    "    # Cek apakah target adalah angka genap\n",
    "    if target % 2 != 0:\n",
    "        return \"Nilai tidak bisa ditemukan karena target adalah angka ganjil\"\n",
    "\n",
    "    # Menginisialisasi indeks awal dan akhir\n",
    "    awal = 0\n",
    "    akhir = len(list_angka) - 1\n",
    "\n",
    "    while awal <= akhir:  # Proses binary search\n",
    "        tengah = (awal + akhir) // 2  # Menghitung indeks tengah\n",
    "        if list_angka[tengah] == target:  # Cek apakah target ditemukan\n",
    "            return f\"Nilai {target} ditemukan pada indeks {tengah}\"\n",
    "\n",
    "        elif list_angka[tengah] > target:  # Cek apakah target lebih kecil dari nilai tengah\n",
    "            akhir = tengah - 1\n",
    "\n",
    "        else:  # Cek apakah target lebih besar dari nilai tengah\n",
    "            awal = tengah + 1\n",
    "\n",
    "    return \"Nilai tidak ditemukan\"  # Jika target tidak ditemukan\n",
    "\n",
    "# Contoh penggunaan\n",
    "list_angka = [2, 4, 6, 8, 10, 12, 14, 16, 18, 20, 22, 24, 26, 28, 30, 32, 34, 36, 38, 40, 42, 44, 46, 48, 50]\n",
    "print(f\"List angka: {list_angka}\")\n",
    "target = int(input(\"Masukkan nilai target: \"))\n",
    "print(f\"Masukkan nilai target: {target}\")\n",
    "hasil = pencarian_biner(list_angka, target)\n",
    "print(hasil)"
   ]
  },
  {
   "cell_type": "markdown",
   "metadata": {},
   "source": [
    "**Interpretasi**: Program tersebut adalah program yang melakukan pencarian biner pada sebuah list angka untuk menemukan nilai target. Fungsi `pencarian_biner()` digunakan untuk melakukan pencarian biner, yang menerima input list angka dan nilai target. Program ini memeriksa apakah target adalah angka genap, kemudian melakukan pencarian biner dengan membagi list angka menjadi dua bagian dan membandingkan nilai tengah dengan target. Jika target ditemukan, program akan menampilkan indeks target, jika tidak, program akan menampilkan pesan bahwa nilai tidak ditemukan. Program ini hanya dapat menemukan nilai target jika target adalah angka genap."
   ]
  }
 ],
 "metadata": {
  "kernelspec": {
   "display_name": "Python 3",
   "language": "python",
   "name": "python3"
  },
  "language_info": {
   "codemirror_mode": {
    "name": "ipython",
    "version": 3
   },
   "file_extension": ".py",
   "mimetype": "text/x-python",
   "name": "python",
   "nbconvert_exporter": "python",
   "pygments_lexer": "ipython3",
   "version": "3.12.6"
  }
 },
 "nbformat": 4,
 "nbformat_minor": 2
}
