{
 "cells": [
  {
   "cell_type": "markdown",
   "metadata": {},
   "source": [
    "### Import Library\n",
    "Untuk memudahkan analisis dan pengolahan data. Dengan melakukan import library, kita dapat menggunakan/mengakses fungsi yang telah tersedia tanpa perlu membuatnya dari nol. "
   ]
  },
  {
   "cell_type": "code",
   "execution_count": 4,
   "metadata": {},
   "outputs": [],
   "source": [
    "import pandas as pd\n",
    "import numpy as np\n",
    "import matplotlib.pyplot as plt\n",
    "import seaborn as sns\n",
    "from sklearn.impute import SimpleImputer\n",
    "from imblearn.under_sampling import RandomUnderSampler, EditedNearestNeighbours, CondensedNearestNeighbour\n",
    "from sklearn.preprocessing import RobustScaler, MinMaxScaler"
   ]
  },
  {
   "cell_type": "markdown",
   "metadata": {},
   "source": [
    "### Membaca File CSV\n",
    "Dapat dilakukan dengan menggunakan fungsi `pd.read_csv()`"
   ]
  },
  {
   "cell_type": "code",
   "execution_count": 5,
   "metadata": {},
   "outputs": [
    {
     "data": {
      "text/html": [
       "<div>\n",
       "<style scoped>\n",
       "    .dataframe tbody tr th:only-of-type {\n",
       "        vertical-align: middle;\n",
       "    }\n",
       "\n",
       "    .dataframe tbody tr th {\n",
       "        vertical-align: top;\n",
       "    }\n",
       "\n",
       "    .dataframe thead th {\n",
       "        text-align: right;\n",
       "    }\n",
       "</style>\n",
       "<table border=\"1\" class=\"dataframe\">\n",
       "  <thead>\n",
       "    <tr style=\"text-align: right;\">\n",
       "      <th></th>\n",
       "      <th>Pregnancies</th>\n",
       "      <th>Glucose</th>\n",
       "      <th>BloodPressure</th>\n",
       "      <th>SkinThickness</th>\n",
       "      <th>Insulin</th>\n",
       "      <th>BMI</th>\n",
       "      <th>DiabetesPedigreeFunction</th>\n",
       "      <th>Age</th>\n",
       "      <th>Outcome</th>\n",
       "    </tr>\n",
       "  </thead>\n",
       "  <tbody>\n",
       "    <tr>\n",
       "      <th>0</th>\n",
       "      <td>6.0</td>\n",
       "      <td>NaN</td>\n",
       "      <td>72.0</td>\n",
       "      <td>35.0</td>\n",
       "      <td>0.0</td>\n",
       "      <td>NaN</td>\n",
       "      <td>0.627</td>\n",
       "      <td>NaN</td>\n",
       "      <td>1</td>\n",
       "    </tr>\n",
       "    <tr>\n",
       "      <th>1</th>\n",
       "      <td>1.0</td>\n",
       "      <td>85.0</td>\n",
       "      <td>66.0</td>\n",
       "      <td>29.0</td>\n",
       "      <td>0.0</td>\n",
       "      <td>NaN</td>\n",
       "      <td>0.351</td>\n",
       "      <td>31.0</td>\n",
       "      <td>0</td>\n",
       "    </tr>\n",
       "    <tr>\n",
       "      <th>2</th>\n",
       "      <td>8.0</td>\n",
       "      <td>183.0</td>\n",
       "      <td>64.0</td>\n",
       "      <td>0.0</td>\n",
       "      <td>0.0</td>\n",
       "      <td>23.3</td>\n",
       "      <td>0.672</td>\n",
       "      <td>32.0</td>\n",
       "      <td>1</td>\n",
       "    </tr>\n",
       "    <tr>\n",
       "      <th>3</th>\n",
       "      <td>1.0</td>\n",
       "      <td>89.0</td>\n",
       "      <td>66.0</td>\n",
       "      <td>23.0</td>\n",
       "      <td>94.0</td>\n",
       "      <td>28.1</td>\n",
       "      <td>0.167</td>\n",
       "      <td>21.0</td>\n",
       "      <td>0</td>\n",
       "    </tr>\n",
       "    <tr>\n",
       "      <th>4</th>\n",
       "      <td>0.0</td>\n",
       "      <td>NaN</td>\n",
       "      <td>40.0</td>\n",
       "      <td>35.0</td>\n",
       "      <td>168.0</td>\n",
       "      <td>43.1</td>\n",
       "      <td>NaN</td>\n",
       "      <td>33.0</td>\n",
       "      <td>1</td>\n",
       "    </tr>\n",
       "  </tbody>\n",
       "</table>\n",
       "</div>"
      ],
      "text/plain": [
       "   Pregnancies  Glucose  BloodPressure  SkinThickness  Insulin   BMI  \\\n",
       "0          6.0      NaN           72.0           35.0      0.0   NaN   \n",
       "1          1.0     85.0           66.0           29.0      0.0   NaN   \n",
       "2          8.0    183.0           64.0            0.0      0.0  23.3   \n",
       "3          1.0     89.0           66.0           23.0     94.0  28.1   \n",
       "4          0.0      NaN           40.0           35.0    168.0  43.1   \n",
       "\n",
       "   DiabetesPedigreeFunction   Age  Outcome  \n",
       "0                     0.627   NaN        1  \n",
       "1                     0.351  31.0        0  \n",
       "2                     0.672  32.0        1  \n",
       "3                     0.167  21.0        0  \n",
       "4                       NaN  33.0        1  "
      ]
     },
     "execution_count": 5,
     "metadata": {},
     "output_type": "execute_result"
    }
   ],
   "source": [
    "data = pd.read_csv(\"diabetes.csv\")\n",
    "data.head()"
   ]
  },
  {
   "cell_type": "markdown",
   "metadata": {},
   "source": [
    "### Pre-Proccessing"
   ]
  },
  {
   "cell_type": "code",
   "execution_count": 6,
   "metadata": {},
   "outputs": [
    {
     "data": {
      "text/plain": [
       "Pregnancies                  77\n",
       "Glucose                     115\n",
       "BloodPressure               154\n",
       "SkinThickness                38\n",
       "Insulin                     192\n",
       "BMI                         230\n",
       "DiabetesPedigreeFunction     77\n",
       "Age                         154\n",
       "Outcome                       0\n",
       "dtype: int64"
      ]
     },
     "execution_count": 6,
     "metadata": {},
     "output_type": "execute_result"
    }
   ],
   "source": [
    "data.isna().sum()"
   ]
  },
  {
   "cell_type": "code",
   "execution_count": 7,
   "metadata": {},
   "outputs": [
    {
     "data": {
      "text/plain": [
       "Pregnancies                 10.026042\n",
       "Glucose                     14.973958\n",
       "BloodPressure               20.052083\n",
       "SkinThickness                4.947917\n",
       "Insulin                     25.000000\n",
       "BMI                         29.947917\n",
       "DiabetesPedigreeFunction    10.026042\n",
       "Age                         20.052083\n",
       "Outcome                      0.000000\n",
       "dtype: float64"
      ]
     },
     "execution_count": 7,
     "metadata": {},
     "output_type": "execute_result"
    }
   ],
   "source": [
    "(data.isna().sum()/len(data)) * 100"
   ]
  },
  {
   "cell_type": "markdown",
   "metadata": {},
   "source": [
    "### 1. Imputasi Missing Value dengan Mean, Median, Modus"
   ]
  },
  {
   "cell_type": "markdown",
   "metadata": {},
   "source": [
    "Imputasi missing value adalah teknik untuk menangani data yang hilang (missing values) dengan mengganti nilai yang hilang dengan nilai tertentu, sehingga model machine learning atau analisis statistik dapat berjalan tanpa masalah. Tiga metode yang umum digunakan untuk melakukan imputasi adalah menggunakan mean, median, dan modus."
   ]
  },
  {
   "cell_type": "code",
   "execution_count": 8,
   "metadata": {},
   "outputs": [],
   "source": [
    "imputasi = data.select_dtypes(include=[np.number])"
   ]
  },
  {
   "cell_type": "markdown",
   "metadata": {},
   "source": [
    "Imputasi data dengan nilai mean: Metode ini menggantikan nilai yang hilang dengan rata-rata (mean) dari seluruh nilai pada kolom tersebut."
   ]
  },
  {
   "cell_type": "code",
   "execution_count": 9,
   "metadata": {},
   "outputs": [],
   "source": [
    "data_mean = imputasi.fillna(imputasi.mean())"
   ]
  },
  {
   "cell_type": "code",
   "execution_count": 10,
   "metadata": {},
   "outputs": [
    {
     "data": {
      "text/plain": [
       "Pregnancies                 0\n",
       "Glucose                     0\n",
       "BloodPressure               0\n",
       "SkinThickness               0\n",
       "Insulin                     0\n",
       "BMI                         0\n",
       "DiabetesPedigreeFunction    0\n",
       "Age                         0\n",
       "Outcome                     0\n",
       "dtype: int64"
      ]
     },
     "execution_count": 10,
     "metadata": {},
     "output_type": "execute_result"
    }
   ],
   "source": [
    "data_mean.isna().sum()"
   ]
  },
  {
   "cell_type": "code",
   "execution_count": 11,
   "metadata": {},
   "outputs": [
    {
     "data": {
      "text/html": [
       "<div>\n",
       "<style scoped>\n",
       "    .dataframe tbody tr th:only-of-type {\n",
       "        vertical-align: middle;\n",
       "    }\n",
       "\n",
       "    .dataframe tbody tr th {\n",
       "        vertical-align: top;\n",
       "    }\n",
       "\n",
       "    .dataframe thead th {\n",
       "        text-align: right;\n",
       "    }\n",
       "</style>\n",
       "<table border=\"1\" class=\"dataframe\">\n",
       "  <thead>\n",
       "    <tr style=\"text-align: right;\">\n",
       "      <th></th>\n",
       "      <th>Pregnancies</th>\n",
       "      <th>Glucose</th>\n",
       "      <th>BloodPressure</th>\n",
       "      <th>SkinThickness</th>\n",
       "      <th>Insulin</th>\n",
       "      <th>BMI</th>\n",
       "      <th>DiabetesPedigreeFunction</th>\n",
       "      <th>Age</th>\n",
       "      <th>Outcome</th>\n",
       "    </tr>\n",
       "  </thead>\n",
       "  <tbody>\n",
       "    <tr>\n",
       "      <th>0</th>\n",
       "      <td>6.0</td>\n",
       "      <td>120.462481</td>\n",
       "      <td>72.0</td>\n",
       "      <td>35.0</td>\n",
       "      <td>0.0</td>\n",
       "      <td>31.99368</td>\n",
       "      <td>0.627000</td>\n",
       "      <td>33.166124</td>\n",
       "      <td>1</td>\n",
       "    </tr>\n",
       "    <tr>\n",
       "      <th>1</th>\n",
       "      <td>1.0</td>\n",
       "      <td>85.000000</td>\n",
       "      <td>66.0</td>\n",
       "      <td>29.0</td>\n",
       "      <td>0.0</td>\n",
       "      <td>31.99368</td>\n",
       "      <td>0.351000</td>\n",
       "      <td>31.000000</td>\n",
       "      <td>0</td>\n",
       "    </tr>\n",
       "    <tr>\n",
       "      <th>2</th>\n",
       "      <td>8.0</td>\n",
       "      <td>183.000000</td>\n",
       "      <td>64.0</td>\n",
       "      <td>0.0</td>\n",
       "      <td>0.0</td>\n",
       "      <td>23.30000</td>\n",
       "      <td>0.672000</td>\n",
       "      <td>32.000000</td>\n",
       "      <td>1</td>\n",
       "    </tr>\n",
       "    <tr>\n",
       "      <th>3</th>\n",
       "      <td>1.0</td>\n",
       "      <td>89.000000</td>\n",
       "      <td>66.0</td>\n",
       "      <td>23.0</td>\n",
       "      <td>94.0</td>\n",
       "      <td>28.10000</td>\n",
       "      <td>0.167000</td>\n",
       "      <td>21.000000</td>\n",
       "      <td>0</td>\n",
       "    </tr>\n",
       "    <tr>\n",
       "      <th>4</th>\n",
       "      <td>0.0</td>\n",
       "      <td>120.462481</td>\n",
       "      <td>40.0</td>\n",
       "      <td>35.0</td>\n",
       "      <td>168.0</td>\n",
       "      <td>43.10000</td>\n",
       "      <td>0.465363</td>\n",
       "      <td>33.000000</td>\n",
       "      <td>1</td>\n",
       "    </tr>\n",
       "  </tbody>\n",
       "</table>\n",
       "</div>"
      ],
      "text/plain": [
       "   Pregnancies     Glucose  BloodPressure  SkinThickness  Insulin       BMI  \\\n",
       "0          6.0  120.462481           72.0           35.0      0.0  31.99368   \n",
       "1          1.0   85.000000           66.0           29.0      0.0  31.99368   \n",
       "2          8.0  183.000000           64.0            0.0      0.0  23.30000   \n",
       "3          1.0   89.000000           66.0           23.0     94.0  28.10000   \n",
       "4          0.0  120.462481           40.0           35.0    168.0  43.10000   \n",
       "\n",
       "   DiabetesPedigreeFunction        Age  Outcome  \n",
       "0                  0.627000  33.166124        1  \n",
       "1                  0.351000  31.000000        0  \n",
       "2                  0.672000  32.000000        1  \n",
       "3                  0.167000  21.000000        0  \n",
       "4                  0.465363  33.000000        1  "
      ]
     },
     "execution_count": 11,
     "metadata": {},
     "output_type": "execute_result"
    }
   ],
   "source": [
    "data_mean.head()"
   ]
  },
  {
   "cell_type": "markdown",
   "metadata": {},
   "source": [
    "Imputasi data dengan nilai median: Metode ini mengganti nilai yang hilang dengan median, yaitu nilai tengah dari distribusi data ketika diurutkan."
   ]
  },
  {
   "cell_type": "code",
   "execution_count": 12,
   "metadata": {},
   "outputs": [],
   "source": [
    "data_median = imputasi.fillna(imputasi.median())"
   ]
  },
  {
   "cell_type": "code",
   "execution_count": 13,
   "metadata": {},
   "outputs": [
    {
     "data": {
      "text/plain": [
       "Pregnancies                 0\n",
       "Glucose                     0\n",
       "BloodPressure               0\n",
       "SkinThickness               0\n",
       "Insulin                     0\n",
       "BMI                         0\n",
       "DiabetesPedigreeFunction    0\n",
       "Age                         0\n",
       "Outcome                     0\n",
       "dtype: int64"
      ]
     },
     "execution_count": 13,
     "metadata": {},
     "output_type": "execute_result"
    }
   ],
   "source": [
    "data_median.isna().sum()"
   ]
  },
  {
   "cell_type": "code",
   "execution_count": 14,
   "metadata": {},
   "outputs": [
    {
     "data": {
      "text/html": [
       "<div>\n",
       "<style scoped>\n",
       "    .dataframe tbody tr th:only-of-type {\n",
       "        vertical-align: middle;\n",
       "    }\n",
       "\n",
       "    .dataframe tbody tr th {\n",
       "        vertical-align: top;\n",
       "    }\n",
       "\n",
       "    .dataframe thead th {\n",
       "        text-align: right;\n",
       "    }\n",
       "</style>\n",
       "<table border=\"1\" class=\"dataframe\">\n",
       "  <thead>\n",
       "    <tr style=\"text-align: right;\">\n",
       "      <th></th>\n",
       "      <th>Pregnancies</th>\n",
       "      <th>Glucose</th>\n",
       "      <th>BloodPressure</th>\n",
       "      <th>SkinThickness</th>\n",
       "      <th>Insulin</th>\n",
       "      <th>BMI</th>\n",
       "      <th>DiabetesPedigreeFunction</th>\n",
       "      <th>Age</th>\n",
       "      <th>Outcome</th>\n",
       "    </tr>\n",
       "  </thead>\n",
       "  <tbody>\n",
       "    <tr>\n",
       "      <th>0</th>\n",
       "      <td>6.0</td>\n",
       "      <td>116.0</td>\n",
       "      <td>72.0</td>\n",
       "      <td>35.0</td>\n",
       "      <td>0.0</td>\n",
       "      <td>32.15</td>\n",
       "      <td>0.627</td>\n",
       "      <td>29.0</td>\n",
       "      <td>1</td>\n",
       "    </tr>\n",
       "    <tr>\n",
       "      <th>1</th>\n",
       "      <td>1.0</td>\n",
       "      <td>85.0</td>\n",
       "      <td>66.0</td>\n",
       "      <td>29.0</td>\n",
       "      <td>0.0</td>\n",
       "      <td>32.15</td>\n",
       "      <td>0.351</td>\n",
       "      <td>31.0</td>\n",
       "      <td>0</td>\n",
       "    </tr>\n",
       "    <tr>\n",
       "      <th>2</th>\n",
       "      <td>8.0</td>\n",
       "      <td>183.0</td>\n",
       "      <td>64.0</td>\n",
       "      <td>0.0</td>\n",
       "      <td>0.0</td>\n",
       "      <td>23.30</td>\n",
       "      <td>0.672</td>\n",
       "      <td>32.0</td>\n",
       "      <td>1</td>\n",
       "    </tr>\n",
       "    <tr>\n",
       "      <th>3</th>\n",
       "      <td>1.0</td>\n",
       "      <td>89.0</td>\n",
       "      <td>66.0</td>\n",
       "      <td>23.0</td>\n",
       "      <td>94.0</td>\n",
       "      <td>28.10</td>\n",
       "      <td>0.167</td>\n",
       "      <td>21.0</td>\n",
       "      <td>0</td>\n",
       "    </tr>\n",
       "    <tr>\n",
       "      <th>4</th>\n",
       "      <td>0.0</td>\n",
       "      <td>116.0</td>\n",
       "      <td>40.0</td>\n",
       "      <td>35.0</td>\n",
       "      <td>168.0</td>\n",
       "      <td>43.10</td>\n",
       "      <td>0.365</td>\n",
       "      <td>33.0</td>\n",
       "      <td>1</td>\n",
       "    </tr>\n",
       "  </tbody>\n",
       "</table>\n",
       "</div>"
      ],
      "text/plain": [
       "   Pregnancies  Glucose  BloodPressure  SkinThickness  Insulin    BMI  \\\n",
       "0          6.0    116.0           72.0           35.0      0.0  32.15   \n",
       "1          1.0     85.0           66.0           29.0      0.0  32.15   \n",
       "2          8.0    183.0           64.0            0.0      0.0  23.30   \n",
       "3          1.0     89.0           66.0           23.0     94.0  28.10   \n",
       "4          0.0    116.0           40.0           35.0    168.0  43.10   \n",
       "\n",
       "   DiabetesPedigreeFunction   Age  Outcome  \n",
       "0                     0.627  29.0        1  \n",
       "1                     0.351  31.0        0  \n",
       "2                     0.672  32.0        1  \n",
       "3                     0.167  21.0        0  \n",
       "4                     0.365  33.0        1  "
      ]
     },
     "execution_count": 14,
     "metadata": {},
     "output_type": "execute_result"
    }
   ],
   "source": [
    "data_median.head()"
   ]
  },
  {
   "cell_type": "markdown",
   "metadata": {},
   "source": [
    "Imputasi data dengan nilai modus: Metode ini menggantikan nilai yang hilang dengan modus, yaitu nilai yang paling sering muncul dalam kolom."
   ]
  },
  {
   "cell_type": "code",
   "execution_count": 15,
   "metadata": {},
   "outputs": [],
   "source": [
    "data_modus = SimpleImputer(\n",
    "        missing_values=np.nan,\n",
    "        strategy='most_frequent')\n",
    "\n",
    "data_modus = pd.DataFrame(data_modus.fit_transform(data), columns=data.columns)"
   ]
  },
  {
   "cell_type": "code",
   "execution_count": 16,
   "metadata": {},
   "outputs": [
    {
     "data": {
      "text/plain": [
       "Pregnancies                 0\n",
       "Glucose                     0\n",
       "BloodPressure               0\n",
       "SkinThickness               0\n",
       "Insulin                     0\n",
       "BMI                         0\n",
       "DiabetesPedigreeFunction    0\n",
       "Age                         0\n",
       "Outcome                     0\n",
       "dtype: int64"
      ]
     },
     "execution_count": 16,
     "metadata": {},
     "output_type": "execute_result"
    }
   ],
   "source": [
    "data_modus.isna().sum()"
   ]
  },
  {
   "cell_type": "code",
   "execution_count": 17,
   "metadata": {},
   "outputs": [
    {
     "data": {
      "text/html": [
       "<div>\n",
       "<style scoped>\n",
       "    .dataframe tbody tr th:only-of-type {\n",
       "        vertical-align: middle;\n",
       "    }\n",
       "\n",
       "    .dataframe tbody tr th {\n",
       "        vertical-align: top;\n",
       "    }\n",
       "\n",
       "    .dataframe thead th {\n",
       "        text-align: right;\n",
       "    }\n",
       "</style>\n",
       "<table border=\"1\" class=\"dataframe\">\n",
       "  <thead>\n",
       "    <tr style=\"text-align: right;\">\n",
       "      <th></th>\n",
       "      <th>Pregnancies</th>\n",
       "      <th>Glucose</th>\n",
       "      <th>BloodPressure</th>\n",
       "      <th>SkinThickness</th>\n",
       "      <th>Insulin</th>\n",
       "      <th>BMI</th>\n",
       "      <th>DiabetesPedigreeFunction</th>\n",
       "      <th>Age</th>\n",
       "      <th>Outcome</th>\n",
       "    </tr>\n",
       "  </thead>\n",
       "  <tbody>\n",
       "    <tr>\n",
       "      <th>0</th>\n",
       "      <td>6.0</td>\n",
       "      <td>100.0</td>\n",
       "      <td>72.0</td>\n",
       "      <td>35.0</td>\n",
       "      <td>0.0</td>\n",
       "      <td>31.2</td>\n",
       "      <td>0.627</td>\n",
       "      <td>22.0</td>\n",
       "      <td>1.0</td>\n",
       "    </tr>\n",
       "    <tr>\n",
       "      <th>1</th>\n",
       "      <td>1.0</td>\n",
       "      <td>85.0</td>\n",
       "      <td>66.0</td>\n",
       "      <td>29.0</td>\n",
       "      <td>0.0</td>\n",
       "      <td>31.2</td>\n",
       "      <td>0.351</td>\n",
       "      <td>31.0</td>\n",
       "      <td>0.0</td>\n",
       "    </tr>\n",
       "    <tr>\n",
       "      <th>2</th>\n",
       "      <td>8.0</td>\n",
       "      <td>183.0</td>\n",
       "      <td>64.0</td>\n",
       "      <td>0.0</td>\n",
       "      <td>0.0</td>\n",
       "      <td>23.3</td>\n",
       "      <td>0.672</td>\n",
       "      <td>32.0</td>\n",
       "      <td>1.0</td>\n",
       "    </tr>\n",
       "    <tr>\n",
       "      <th>3</th>\n",
       "      <td>1.0</td>\n",
       "      <td>89.0</td>\n",
       "      <td>66.0</td>\n",
       "      <td>23.0</td>\n",
       "      <td>94.0</td>\n",
       "      <td>28.1</td>\n",
       "      <td>0.167</td>\n",
       "      <td>21.0</td>\n",
       "      <td>0.0</td>\n",
       "    </tr>\n",
       "    <tr>\n",
       "      <th>4</th>\n",
       "      <td>0.0</td>\n",
       "      <td>100.0</td>\n",
       "      <td>40.0</td>\n",
       "      <td>35.0</td>\n",
       "      <td>168.0</td>\n",
       "      <td>43.1</td>\n",
       "      <td>0.207</td>\n",
       "      <td>33.0</td>\n",
       "      <td>1.0</td>\n",
       "    </tr>\n",
       "  </tbody>\n",
       "</table>\n",
       "</div>"
      ],
      "text/plain": [
       "   Pregnancies  Glucose  BloodPressure  SkinThickness  Insulin   BMI  \\\n",
       "0          6.0    100.0           72.0           35.0      0.0  31.2   \n",
       "1          1.0     85.0           66.0           29.0      0.0  31.2   \n",
       "2          8.0    183.0           64.0            0.0      0.0  23.3   \n",
       "3          1.0     89.0           66.0           23.0     94.0  28.1   \n",
       "4          0.0    100.0           40.0           35.0    168.0  43.1   \n",
       "\n",
       "   DiabetesPedigreeFunction   Age  Outcome  \n",
       "0                     0.627  22.0      1.0  \n",
       "1                     0.351  31.0      0.0  \n",
       "2                     0.672  32.0      1.0  \n",
       "3                     0.167  21.0      0.0  \n",
       "4                     0.207  33.0      1.0  "
      ]
     },
     "execution_count": 17,
     "metadata": {},
     "output_type": "execute_result"
    }
   ],
   "source": [
    "data_modus.head()"
   ]
  },
  {
   "cell_type": "markdown",
   "metadata": {},
   "source": [
    "### EDA"
   ]
  },
  {
   "cell_type": "markdown",
   "metadata": {},
   "source": [
    "### 2. Cek Korelasi Antar Variabel dengan Heatmap"
   ]
  },
  {
   "cell_type": "code",
   "execution_count": 18,
   "metadata": {},
   "outputs": [
    {
     "data": {
      "image/png": "[encoded data removed]",
      "text/plain": [
       "<Figure size 800x600 with 2 Axes>"
      ]
     },
     "metadata": {},
     "output_type": "display_data"
    }
   ],
   "source": [
    "correlation_matrix = data.corr()\n",
    "\n",
    "# Menampilkan heatmap menggunakan seaborn\n",
    "plt.figure(figsize=(8, 6))\n",
    "sns.heatmap(correlation_matrix, annot=True, cmap='coolwarm', linewidths=0.5)\n",
    "\n",
    "# Menambahkan judul\n",
    "plt.title('Heatmap Korelasi Variabel')\n",
    "\n",
    "# Menampilkan heatmap\n",
    "plt.show()"
   ]
  },
  {
   "cell_type": "markdown",
   "metadata": {},
   "source": [
    "Berdasarkan heatmap tersebut, dapat dilihat hubungan antar variabel pada dataset `diabetes.csv` terutama variabel target `Outcome`. Pengukuran korelasi ini dapat dijelaskan sebagai berikut,\n",
    "- Nilai 1 berarti ada korelasi positif sempurna (ketika satu variabel meningkat, variabel lain juga meningkat).\n",
    "- Nilai -1 berarti ada korelasi negatif sempurna (ketika satu variabel meningkat, variabel lain menurun).\n",
    "- Nilai 0 berarti tidak ada hubungan linear yang jelas antara kedua variabel.\n",
    "\n",
    "Analisis yang dapat dijelaskan yaitu,\n",
    "- Variabel `Glucose`: Memiliki korelasi tertinggi dengan variabel Outcome sebesar 0.45. Artinya, semakin tinggi kadar glukosa seseorang, semakin besar kemungkinan orang tersebut terkena diabetes.\n",
    "- Variabel `BMI`: Memiliki korelasi yang signifikan dengan `Outcome`, yaitu sebesar 0.32. Ini menunjukkan bahwa semakin tinggi Body Mass Index (BMI), semakin tinggi kemungkinan terkena diabetes.\n",
    "- Variabel `Age`: Korelasi dengan `Outcome` sebesar 0.21. Artinya, semakin tua usia seseorang, ada peningkatan risiko terkena diabetes, meskipun pengaruhnya tidak terlalu kuat dibandingkan variabel lainnya.\n",
    "- Variabel `Pregnancies`: Korelasi sebesar 0.25 dengan `Outcome`. Ini menunjukkan bahwa jumlah kehamilan memiliki hubungan yang cukup kuat dengan kemungkinan terkena diabetes.\n",
    "- Variabel `Insulin`: Korelasinya dengan `Outcome` relatif rendah, yaitu sekitar 0.12. Artinya, insulin memiliki pengaruh kecil dalam menentukan apakah seseorang terkena diabetes berdasarkan data ini.\n",
    "- Variabel `BloodPressure`, `SkinThickness`, `DiabetesPedigreeFunction`: Variabel-variabel ini memiliki korelasi yang sangat rendah dengan `Outcome` (di bawah 0.1), yang berarti hubungan mereka dengan kemungkinan terkena diabetes sangat kecil atau hampir tidak ada.\n",
    "\n",
    "Berdasarkan analisis yang sudah dijelaskan dapat ditarik kesimpulan bahwa variabel yang paling berpengaruh terhadap `Outcome` (diabetes) dalam dataset ini adalah `Glucose`, diikuti oleh `BMI`, `Pregnancies`, dan `Age`. Variabel seperti `BloodPressure`, `SkinThickness`, dan `DiabetesPedigreeFunction` memiliki hubungan yang lemah terhadap kemungkinan terkena diabetes."
   ]
  },
  {
   "cell_type": "markdown",
   "metadata": {},
   "source": [
    "### 3. Lakukan Imbalance Handling dengan Undersampling"
   ]
  },
  {
   "cell_type": "markdown",
   "metadata": {},
   "source": [
    "`Imbalance Handling` adalah teknik-teknik yang digunakan untuk menangani ketidakseimbangan kelas dalam dataset agar model machine learning tidak bias terhadap kelas mayoritas. Ada beberapa cara yang dapat dilakukan untuk menangani ketidakseimbangan kelas yaitu, resampling (oversampling dan undersampling), algoritma SMOTE, modifikasi algoritma (Random Forest, XGBoost), dan Cost-sensitive learning."
   ]
  },
  {
   "cell_type": "markdown",
   "metadata": {},
   "source": [
    "`Undersampling` adalah salah satu metode untuk menangani ketidakseimbangan kelas dengan mengurangi jumlah sampel dari kelas mayoritas. Undersampling dilakukan dengan secara acak memilih subset dari kelas mayoritas sehingga jumlahnya menjadi seimbang dengan kelas minoritas."
   ]
  },
  {
   "cell_type": "code",
   "execution_count": 33,
   "metadata": {},
   "outputs": [],
   "source": [
    "# Menggunakan imputasi median\n",
    "x_median=data_median.drop('Outcome', axis=1)\n",
    "y_median=data_median['Outcome']\n",
    "\n",
    "# Undersampling dengan metode RandomUnderSampler\n",
    "random = RandomUnderSampler(sampling_strategy='not minority', random_state=42) #semua class kecuali minority\n",
    "x_resampled_median, y_resampled_median = random.fit_resample(x_median, y_median)"
   ]
  },
  {
   "cell_type": "code",
   "execution_count": 34,
   "metadata": {},
   "outputs": [
    {
     "data": {
      "image/png": "[encoded data removed]",
      "text/plain": [
       "<Figure size 640x480 with 1 Axes>"
      ]
     },
     "metadata": {},
     "output_type": "display_data"
    }
   ],
   "source": [
    "sns.countplot(data=data_median, y=y_median)\n",
    "plt.title(\"Sebelum Undersampling dengan Random Under Sampling\", fontsize=14, pad=15)\n",
    "plt.show()"
   ]
  },
  {
   "cell_type": "code",
   "execution_count": 35,
   "metadata": {},
   "outputs": [
    {
     "data": {
      "image/png": "[encoded data removed]",
      "text/plain": [
       "<Figure size 640x480 with 1 Axes>"
      ]
     },
     "metadata": {},
     "output_type": "display_data"
    }
   ],
   "source": [
    "sns.countplot(data=x_resampled_median, y=y_resampled_median)\n",
    "plt.title(\"Setelah Undersampling dengan Random Under Sampling\", fontsize=14, pad=15)\n",
    "plt.show()"
   ]
  },
  {
   "cell_type": "markdown",
   "metadata": {},
   "source": [
    "### 4. Lakukan Scaling dengan Robust Scaler dan MinMax"
   ]
  },
  {
   "cell_type": "markdown",
   "metadata": {},
   "source": [
    "`Scaling` adalah proses mengubah skala atau rentang nilai data agar lebih sesuai dan konsisten untuk digunakan dalam algoritma tertentu. Ada beberapa teknik yang dapat dilakukan untuk scaling, 2 diantaranya adalah robust scaler dan minmax scaler. "
   ]
  },
  {
   "cell_type": "markdown",
   "metadata": {},
   "source": [
    "`Robust Scaler`: Teknik ini lebih tahan terhadap outliers (nilai yang sangat besar atau kecil dibandingkan dengan data lain). Robust Scaler melakukan scaling berdasarkan interquartile range (IQR), yaitu jarak antara kuartil ke-1 (Q1) dan kuartil ke-3 (Q3), sehingga tidak dipengaruhi oleh nilai ekstrem."
   ]
  },
  {
   "cell_type": "code",
   "execution_count": 25,
   "metadata": {},
   "outputs": [],
   "source": [
    "scaler = RobustScaler()\n",
    "data_robust_mean = x_resampled_mean.copy()\n",
    "data_robust_mean[data_robust_mean.columns.difference(['Outcome'])] = scaler.fit_transform(data_robust_mean[data_robust_mean.columns.difference(['Outcome'])])"
   ]
  },
  {
   "cell_type": "code",
   "execution_count": 26,
   "metadata": {},
   "outputs": [
    {
     "name": "stdout",
     "output_type": "stream",
     "text": [
      "     Pregnancies   Glucose  BloodPressure  SkinThickness   Insulin       BMI  \\\n",
      "556    -0.560637 -0.710984       0.086726        0.56250  0.000000  0.000000   \n",
      "117     0.239363  0.000000      -1.746607       -0.68750 -0.807123  0.416176   \n",
      "572    -0.160637 -0.286742      -0.913274        0.28125 -0.345181 -0.608215   \n",
      "251    -0.360637  0.258713       1.253393       -0.68750 -0.807123 -0.974068   \n",
      "161     0.639363 -0.559469       0.420060        0.56250  0.000000  1.269834   \n",
      "\n",
      "     DiabetesPedigreeFunction       Age  \n",
      "556                 -0.590302 -0.263844  \n",
      "117                  0.635278 -0.680510  \n",
      "572                  0.005622 -0.930510  \n",
      "251                 -0.404779 -0.513844  \n",
      "161                 -0.629656  0.000000  \n"
     ]
    }
   ],
   "source": [
    "print(data_robust_mean.head())"
   ]
  },
  {
   "cell_type": "markdown",
   "metadata": {},
   "source": [
    "`MinMax Scaler`: Salah satu metode scaling yang digunakan untuk mengubah rentang data menjadi skala tertentu, biasanya antara 0 dan 1. Teknik ini menghitung nilai minimum dan maksimum dari setiap fitur, lalu menyesuaikan semua nilai dalam rentang tersebut."
   ]
  },
  {
   "cell_type": "code",
   "execution_count": 27,
   "metadata": {},
   "outputs": [],
   "source": [
    "scaler = MinMaxScaler()\n",
    "data_minmax_mean = x_resampled_mean.copy()\n",
    "data_minmax_mean[data_minmax_mean.columns.difference(['Outcome'])] = scaler.fit_transform(data_minmax_mean[data_minmax_mean.columns.difference(['Outcome'])])"
   ]
  },
  {
   "cell_type": "code",
   "execution_count": 28,
   "metadata": {},
   "outputs": [
    {
     "name": "stdout",
     "output_type": "stream",
     "text": [
      "     Pregnancies   Glucose  BloodPressure  SkinThickness   Insulin       BMI  \\\n",
      "556     0.058824  0.487437       0.614035       0.404040  0.141581  0.476806   \n",
      "117     0.294118  0.605339       0.421053       0.000000  0.000000  0.502235   \n",
      "572     0.176471  0.557789       0.508772       0.313131  0.081031  0.439642   \n",
      "251     0.117647  0.648241       0.736842       0.000000  0.000000  0.417288   \n",
      "161     0.411765  0.512563       0.649123       0.404040  0.141581  0.554396   \n",
      "\n",
      "     DiabetesPedigreeFunction       Age  \n",
      "556                  0.059688  0.176471  \n",
      "117                  0.253898  0.078431  \n",
      "572                  0.154120  0.019608  \n",
      "251                  0.089087  0.117647  \n",
      "161                  0.053452  0.238551  \n"
     ]
    }
   ],
   "source": [
    "print(data_minmax_mean.head())"
   ]
  }
 ],
 "metadata": {
  "kernelspec": {
   "display_name": "Python 3",
   "language": "python",
   "name": "python3"
  },
  "language_info": {
   "codemirror_mode": {
    "name": "ipython",
    "version": 3
   },
   "file_extension": ".py",
   "mimetype": "text/x-python",
   "name": "python",
   "nbconvert_exporter": "python",
   "pygments_lexer": "ipython3",
   "version": "3.12.7"
  }
 },
 "nbformat": 4,
 "nbformat_minor": 2
}
